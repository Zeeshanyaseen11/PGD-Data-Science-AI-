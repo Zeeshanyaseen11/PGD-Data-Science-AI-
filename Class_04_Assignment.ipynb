{
 "cells": [
  {
   "cell_type": "code",
   "execution_count": 1,
   "id": "4c1a4e97",
   "metadata": {},
   "outputs": [],
   "source": [
    "#make a student card based based on variables which should show some basic information of the enrolled student "
   ]
  },
  {
   "cell_type": "markdown",
   "id": "60e50161",
   "metadata": {},
   "source": [
    "# Student Card Task"
   ]
  },
  {
   "cell_type": "code",
   "execution_count": 31,
   "id": "4f45de60",
   "metadata": {},
   "outputs": [
    {
     "name": "stdout",
     "output_type": "stream",
     "text": [
      "Enter Student Name A\n",
      "Enter Father Name w\n",
      "Which Program Is Candidate Enrolled In ?\n",
      "Please Enter The Ongoing Module Numberff\n",
      "Is The Student Active Or Inactive ? s\n",
      "Enter The Email Address Of The Studentx\n",
      "Enter The Age Of The Studentf\n",
      "Please Enter The Date Of Admissiong\n",
      "Please Enter The Class Timingsa\n"
     ]
    }
   ],
   "source": [
    "Name = input(\"Enter Student Name \")\n",
    "Father_Name = input('Enter Father Name ')\n",
    "Program = input ('Which Program Is Candidate Enrolled In ?')\n",
    "Module_Number = input('Please Enter The Ongoing Module Number')\n",
    "Status = input ('Is The Student Active Or Inactive ? ')\n",
    "Email = input ('Enter The Email Address Of The Student')\n",
    "Age = input ('Enter The Age Of The Student')\n",
    "date_of_admission = input ('Please Enter The Date Of Admission')\n",
    "class_timing = input ('Please Enter The Class Timings')"
   ]
  },
  {
   "cell_type": "code",
   "execution_count": 32,
   "id": "a1dabaad",
   "metadata": {},
   "outputs": [
    {
     "name": "stdout",
     "output_type": "stream",
     "text": [
      "\n",
      "Name : A\n",
      "Father Name : w\n",
      "Enrolled Program : \n",
      "Module Number : ff\n",
      "Status : s\n",
      "Email : x\n",
      "Age : f\n",
      "Date Of Joining : g\n",
      "Class Timing : a\n"
     ]
    }
   ],
   "source": [
    "Student_Card = \"\"\"\n",
    "Name : \"\"\" + Name + \"\"\"\n",
    "Father Name : \"\"\" + Father_Name + \"\"\"\n",
    "Enrolled Program : \"\"\" +  Program + \"\"\"\n",
    "Module Number : \"\"\" + str(Module_Number) + \"\"\"\n",
    "Status : \"\"\" + Status + \"\"\"\n",
    "Email : \"\"\" + Email + \"\"\"\n",
    "Age : \"\"\" + str(Age) + \"\"\"\n",
    "Date Of Joining : \"\"\" + str(date_of_admission) + \"\"\"\n",
    "Class Timing : \"\"\" + str(class_timing)\n",
    "\n",
    "print(Student_Card)"
   ]
  },
  {
   "cell_type": "markdown",
   "id": "1acbf94f",
   "metadata": {},
   "source": [
    "# .Format concept"
   ]
  },
  {
   "cell_type": "code",
   "execution_count": 33,
   "id": "03b1fa18",
   "metadata": {},
   "outputs": [],
   "source": [
    "# the more easiest way is to perform the same process with the format method"
   ]
  },
  {
   "cell_type": "code",
   "execution_count": 37,
   "id": "1dfb4370",
   "metadata": {},
   "outputs": [
    {
     "name": "stdout",
     "output_type": "stream",
     "text": [
      "Student Card\n",
      "\n",
      "Name : Zeeshan\n",
      "Father Name : Yaseen\n",
      "Age : 26\n",
      "Gender : Male\n",
      "Batch Number : 04\n",
      "\n"
     ]
    }
   ],
   "source": [
    "student_name = \"Zeeshan\"\n",
    "studnet_father_name = \"Yaseen\"\n",
    "batch = '04'\n",
    "university_name = \"NED\"\n",
    "age = 26\n",
    "gender = \"Male\"\n",
    "date_of_admission = \"2022-01-16\"\n",
    "class_timing = '5:15 to 7:15'\n",
    "\n",
    "print(\"Student Card\")\n",
    "student_card = \"\"\"\n",
    "Name : {}\n",
    "Father Name : {}\n",
    "Age : {}\n",
    "Gender : {}\n",
    "Batch Number : {}\n",
    "\"\"\".format(student_name,studnet_father_name,age,gender,batch)\n",
    "\n",
    "print(student_card)"
   ]
  },
  {
   "cell_type": "code",
   "execution_count": 56,
   "id": "6578ae7b",
   "metadata": {},
   "outputs": [
    {
     "data": {
      "text/html": [
       "<div>\n",
       "<style scoped>\n",
       "    .dataframe tbody tr th:only-of-type {\n",
       "        vertical-align: middle;\n",
       "    }\n",
       "\n",
       "    .dataframe tbody tr th {\n",
       "        vertical-align: top;\n",
       "    }\n",
       "\n",
       "    .dataframe thead th {\n",
       "        text-align: right;\n",
       "    }\n",
       "</style>\n",
       "<table border=\"1\" class=\"dataframe\">\n",
       "  <thead>\n",
       "    <tr style=\"text-align: right;\">\n",
       "      <th></th>\n",
       "      <th>id</th>\n",
       "      <th>name</th>\n",
       "      <th>fname</th>\n",
       "      <th>course</th>\n",
       "    </tr>\n",
       "  </thead>\n",
       "  <tbody>\n",
       "    <tr>\n",
       "      <th>0</th>\n",
       "      <td>1</td>\n",
       "      <td>Ahmed</td>\n",
       "      <td>Hunain</td>\n",
       "      <td>Python3</td>\n",
       "    </tr>\n",
       "    <tr>\n",
       "      <th>1</th>\n",
       "      <td>2</td>\n",
       "      <td>junaid</td>\n",
       "      <td>Iqbal</td>\n",
       "      <td>Python</td>\n",
       "    </tr>\n",
       "    <tr>\n",
       "      <th>2</th>\n",
       "      <td>3</td>\n",
       "      <td>Rashid</td>\n",
       "      <td>Imran</td>\n",
       "      <td>AI</td>\n",
       "    </tr>\n",
       "    <tr>\n",
       "      <th>3</th>\n",
       "      <td>4</td>\n",
       "      <td>Qasim</td>\n",
       "      <td>Yasir</td>\n",
       "      <td>Python</td>\n",
       "    </tr>\n",
       "    <tr>\n",
       "      <th>4</th>\n",
       "      <td>5</td>\n",
       "      <td>Konain</td>\n",
       "      <td>Nusrat</td>\n",
       "      <td>Data Science</td>\n",
       "    </tr>\n",
       "    <tr>\n",
       "      <th>5</th>\n",
       "      <td>6</td>\n",
       "      <td>Yasir</td>\n",
       "      <td>Rashid</td>\n",
       "      <td>Python</td>\n",
       "    </tr>\n",
       "    <tr>\n",
       "      <th>6</th>\n",
       "      <td>7</td>\n",
       "      <td>Jasim</td>\n",
       "      <td>Abid</td>\n",
       "      <td>Python</td>\n",
       "    </tr>\n",
       "  </tbody>\n",
       "</table>\n",
       "</div>"
      ],
      "text/plain": [
       "   id    name   fname        course\n",
       "0   1   Ahmed  Hunain       Python3\n",
       "1   2  junaid   Iqbal        Python\n",
       "2   3  Rashid   Imran            AI\n",
       "3   4   Qasim   Yasir        Python\n",
       "4   5  Konain  Nusrat  Data Science\n",
       "5   6   Yasir  Rashid        Python\n",
       "6   7   Jasim    Abid        Python"
      ]
     },
     "execution_count": 56,
     "metadata": {},
     "output_type": "execute_result"
    }
   ],
   "source": [
    "# make a card of the data attached in the excel file in a way that each record must have a unique card \n",
    "# reference file Student_Card_DATA.xlsx\n",
    "\n",
    "import pandas as pd \n",
    "import numpy as np\n",
    "df = pd.read_excel(\"Student_Card_DATA.xlsx\")\n",
    "df.head(10)"
   ]
  },
  {
   "cell_type": "code",
   "execution_count": 54,
   "id": "d2084b90",
   "metadata": {},
   "outputs": [
    {
     "name": "stdout",
     "output_type": "stream",
     "text": [
      "\n",
      "    Student ID : 1\n",
      "    Student Name : Ahmed\n",
      "    Student Father Name : Hunain\n",
      "    Enrolled Course : Python3\n",
      "    \n",
      "=======\n",
      "\n",
      "    Student ID : 2\n",
      "    Student Name : junaid\n",
      "    Student Father Name : Iqbal\n",
      "    Enrolled Course : Python\n",
      "    \n",
      "=======\n",
      "\n",
      "    Student ID : 3\n",
      "    Student Name : Rashid\n",
      "    Student Father Name : Imran\n",
      "    Enrolled Course : AI\n",
      "    \n",
      "=======\n",
      "\n",
      "    Student ID : 4\n",
      "    Student Name : Qasim\n",
      "    Student Father Name : Yasir\n",
      "    Enrolled Course : Python\n",
      "    \n",
      "=======\n",
      "\n",
      "    Student ID : 5\n",
      "    Student Name : Konain\n",
      "    Student Father Name : Nusrat\n",
      "    Enrolled Course : Data Science\n",
      "    \n",
      "=======\n",
      "\n",
      "    Student ID : 6\n",
      "    Student Name : Yasir\n",
      "    Student Father Name : Rashid\n",
      "    Enrolled Course : Python\n",
      "    \n",
      "=======\n",
      "\n",
      "    Student ID : 7\n",
      "    Student Name : Jasim\n",
      "    Student Father Name : Abid\n",
      "    Enrolled Course : Python\n",
      "    \n",
      "=======\n"
     ]
    }
   ],
   "source": [
    "#for sid,name,fname,course in df.values:\n",
    "#    Student_card = \"\"\"\n",
    "#    Student ID : {}\n",
    "#    Student Name : {}\n",
    "#   Student Father Name : {}\n",
    "#    Enrolled Course : {}\n",
    "#    \"\"\".format(sid,name,fname,course)\n",
    "#    print(Student_card)\n",
    "#    print(\"=======\")\n",
    "\n",
    "for sid,name,fname,course in df.values:\n",
    "    Student_card = f\"\"\"\n",
    "    Student ID : {sid}\n",
    "    Student Name : {name}\n",
    "    Student Father Name : {fname}\n",
    "    Enrolled Course : {course}\n",
    "    \"\"\"\n",
    "    print(Student_card)\n",
    "    print(\"=======\")"
   ]
  },
  {
   "cell_type": "code",
   "execution_count": null,
   "id": "3d9b6cd2",
   "metadata": {},
   "outputs": [],
   "source": []
  }
 ],
 "metadata": {
  "kernelspec": {
   "display_name": "Python 3",
   "language": "python",
   "name": "python3"
  },
  "language_info": {
   "codemirror_mode": {
    "name": "ipython",
    "version": 3
   },
   "file_extension": ".py",
   "mimetype": "text/x-python",
   "name": "python",
   "nbconvert_exporter": "python",
   "pygments_lexer": "ipython3",
   "version": "3.8.8"
  }
 },
 "nbformat": 4,
 "nbformat_minor": 5
}
