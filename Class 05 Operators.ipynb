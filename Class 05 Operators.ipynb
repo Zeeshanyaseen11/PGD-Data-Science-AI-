{
 "cells": [
  {
   "cell_type": "markdown",
   "id": "57035b89",
   "metadata": {},
   "source": [
    "# Write a program to accept a number from a user and calculate the sum of all numbers from 1 to a given number\n",
    "\n",
    "#if the user entered 10 the output should be 55 (1+2+3+4+5+6+7+8+9+10)"
   ]
  },
  {
   "cell_type": "code",
   "execution_count": 1,
   "id": "7f9f4051",
   "metadata": {},
   "outputs": [
    {
     "name": "stdout",
     "output_type": "stream",
     "text": [
      "Please enter the num5\n",
      "1\n",
      "3\n",
      "6\n",
      "10\n",
      "15\n"
     ]
    }
   ],
   "source": [
    "#num = int(input('Please enter the num'))\n",
    "#print('The Entered Number is ' + str(num))\n",
    "#x = 0\n",
    "#total = 0\n",
    "#while x <= num:\n",
    "#    print(x,sep ='')\n",
    "#    x = x + 1\n",
    "user_input = int(input('Please enter the num'))\n",
    "total = 0\n",
    "for num in range(1, user_input+1, 1):\n",
    "    total = total + num\n",
    "    print(total)"
   ]
  },
  {
   "cell_type": "markdown",
   "id": "004bc14a",
   "metadata": {},
   "source": [
    "# MULTIPLICATION TABLE "
   ]
  },
  {
   "cell_type": "code",
   "execution_count": null,
   "id": "962b0edd",
   "metadata": {},
   "outputs": [],
   "source": [
    "#make a program that should take a number as in input and print a table of it. "
   ]
  },
  {
   "cell_type": "code",
   "execution_count": 2,
   "id": "752d1b0b",
   "metadata": {},
   "outputs": [
    {
     "name": "stdout",
     "output_type": "stream",
     "text": [
      "Enter The Table Number Which You Want To Print10\n",
      "10x1=10\n",
      "10x2=20\n",
      "10x3=30\n",
      "10x4=40\n",
      "10x5=50\n",
      "10x6=60\n",
      "10x7=70\n",
      "10x8=80\n",
      "10x9=90\n",
      "10x10=100\n"
     ]
    }
   ],
   "source": [
    "table_num = int(input(\"Enter The Table Number Which You Want To Print\"))\n",
    "for x in range(1,11,1):\n",
    "    print(str(table_num) + 'x' + str(x) + '=' + str(table_num * x))"
   ]
  },
  {
   "cell_type": "markdown",
   "id": "822a6d18",
   "metadata": {},
   "source": [
    "# Make An Airthametic Calculator Using Methods\n"
   ]
  },
  {
   "cell_type": "code",
   "execution_count": null,
   "id": "03fc9311",
   "metadata": {},
   "outputs": [],
   "source": [
    "#x = input('Enter Number One')\n",
    "#x = int(x)\n",
    "#y = input#('Enter Number Two')\n",
    "#y = int(y#)\n",
    "#opt = input ('Enter Operation')#\n",
    "\n",
    "#if opt == '+':\n",
    "#    sum(x,y)\n",
    "#elif opt == '-':\n",
    "#    subt(x,y)\n",
    "#elif opt == '*':\n",
    "#    mul(x,y)\n",
    "#elif opt == '/':\n",
    "#    div(x,y)\n",
    "#else:\n",
    "#    print('Wrong Choice')\n",
    "#    \n",
    "#def sum(x,y):\n",
    "#    res = x + y\n",
    "#    print('Your Result Is' + res)\n",
    "#def subt(x,y):\n",
    "#    print(x - y)\n",
    "#    #print('Your Result Is' + str(res))\n",
    "#def mul(x,y):\n",
    "#    print(x * y)\n",
    "#    #print('Your Result Is' +  str(res))\n",
    "#def div(x,y):\n",
    "#    print(x / y)\n",
    "    #print('Your Result Is' +  str(res))  "
   ]
  },
  {
   "cell_type": "code",
   "execution_count": 41,
   "id": "332adf22",
   "metadata": {},
   "outputs": [
    {
     "name": "stdout",
     "output_type": "stream",
     "text": [
      "Enter Num One7\n",
      "Enter Num Two50\n",
      "Enter Operator/\n",
      "The Result Is  0.14\n"
     ]
    }
   ],
   "source": [
    "a = input('Enter Num One')\n",
    "a = int(a)\n",
    "b = input('Enter Num Two')\n",
    "b = int(b)\n",
    "opt  = input('Enter Operator')\n",
    "\n",
    "def sum_(a,b):\n",
    "    res = a + b \n",
    "    print('The Result Is ' + ' ' + str(res))\n",
    "    \n",
    "def sub_(a,b):\n",
    "    res = a - b \n",
    "    print('The Result Is ' + ' ' +str(res))\n",
    "\n",
    "def mul_(a,b):\n",
    "    res = a * b \n",
    "    print('The Result Is ' + ' ' +str(res))\n",
    "    \n",
    "def div_(a,b):\n",
    "    res = a / b \n",
    "    print('The Result Is ' + ' ' + str(res))\n",
    "\n",
    "if opt == '+' :\n",
    "    sum_(a,b)\n",
    "elif opt == '-':\n",
    "    sub_(a,b)\n",
    "elif opt == '*':\n",
    "    mul_(a,b)\n",
    "elif opt == '/':\n",
    "    div_(a,b)\n",
    "else:\n",
    "    print('Invalid Selection')\n",
    "    \n"
   ]
  },
  {
   "cell_type": "markdown",
   "id": "e6656c1c",
   "metadata": {},
   "source": [
    "# Write a program to display only those numbers from a list that satisfy the following conditions\n",
    "\n",
    "The number must be divisible by five\n",
    "If the number is greater than 150, then skip it and move to the next number\n",
    "If the number is greater than 500, then stop the loop"
   ]
  },
  {
   "cell_type": "code",
   "execution_count": 36,
   "id": "f520566a",
   "metadata": {},
   "outputs": [
    {
     "name": "stdout",
     "output_type": "stream",
     "text": [
      "75\n",
      "150\n",
      "145\n"
     ]
    }
   ],
   "source": [
    "numbers = [12, 75, 150, 180, 145, 525, 50]\n",
    "\n",
    "for x in numbers:\n",
    "    if x % 5 == 0 and x <= 150 :\n",
    "        print(x)\n",
    "    elif x > 500:\n",
    "        break        "
   ]
  },
  {
   "cell_type": "markdown",
   "id": "cb648de1",
   "metadata": {},
   "source": [
    "# Write a program to count the total number of digits in a number using a while loop."
   ]
  },
  {
   "cell_type": "code",
   "execution_count": 43,
   "id": "853f7a02",
   "metadata": {},
   "outputs": [
    {
     "name": "stdout",
     "output_type": "stream",
     "text": [
      "7586 0\n",
      "758 1\n",
      "75 2\n",
      "7 3\n",
      "0 4\n",
      "Total digits are: 5\n"
     ]
    }
   ],
   "source": [
    "num = 75869\n",
    "count = 0\n",
    "while num != 0:\n",
    "    # floor division\n",
    "    # to reduce the last digit from number\n",
    "    num = num // 10\n",
    "    print(num,count)  \n",
    "\n",
    "    # increment counter by 1\n",
    "    count = count + 1\n",
    "print(\"Total digits are:\", count)"
   ]
  },
  {
   "cell_type": "code",
   "execution_count": null,
   "id": "03cffcbe",
   "metadata": {},
   "outputs": [],
   "source": []
  }
 ],
 "metadata": {
  "kernelspec": {
   "display_name": "Python 3",
   "language": "python",
   "name": "python3"
  },
  "language_info": {
   "codemirror_mode": {
    "name": "ipython",
    "version": 3
   },
   "file_extension": ".py",
   "mimetype": "text/x-python",
   "name": "python",
   "nbconvert_exporter": "python",
   "pygments_lexer": "ipython3",
   "version": "3.8.8"
  }
 },
 "nbformat": 4,
 "nbformat_minor": 5
}
